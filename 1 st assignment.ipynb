{
 "cells": [
  {
   "cell_type": "markdown",
   "id": "42b320ea",
   "metadata": {},
   "source": [
    "## 1"
   ]
  },
  {
   "cell_type": "markdown",
   "id": "5bcc2afa",
   "metadata": {},
   "source": [
    "*       its an expression because its an operator \n",
    "'hello' its an value because its an string\n",
    "-87.8   its an value because its an integer \n",
    "-       its an expression because its an operator\n",
    "/       its an expression because its an operator\n",
    "+       its an expression because its an operator \n",
    "6       its an value because its an integer"
   ]
  },
  {
   "cell_type": "markdown",
   "id": "34ab6311",
   "metadata": {},
   "source": [
    "# 2"
   ]
  },
  {
   "cell_type": "markdown",
   "id": "4d0f6c8a",
   "metadata": {},
   "source": [
    "STRING :\n",
    "    it is enclosed  with '' or \" \" or '''' '''.\n",
    "    it is an array of immutable data.\n",
    "    we can access the strings by both positive and negative indxing.\n",
    "VARIABLE:\n",
    "    it acts like a container to store the data.\n",
    "    its going to activate when we adds an assignment operator =\n",
    "    it can be represented with 0-1 digits and A-Z and a-z alphabets without including any special symbols\n",
    "    _ are not used at the starting of a variable"
   ]
  },
  {
   "cell_type": "markdown",
   "id": "ee1c44e9",
   "metadata": {},
   "source": [
    "# 3"
   ]
  },
  {
   "cell_type": "markdown",
   "id": "2a93bbfb",
   "metadata": {},
   "source": [
    "The three different data types are :\n",
    "  1.Numeric - integer - it includes 0-9 and includes negative values \n",
    "              float   - its includes all the decimal values.\n",
    "              complex - it is a combination of both real and imagiary numbers\n",
    "  2. STRINGS  -  it is enclosed  with '' or \" \" or '''' '''.\n",
    "                 it is an array of immutable data.\n",
    "  2. SEQUENCE - list - it is enclosed with [] braces \n",
    "                dictonary - it is enclosed with {KEY : VALUE } \n",
    "                tuple -it is enclosed with ()\n"
   ]
  },
  {
   "cell_type": "markdown",
   "id": "ae463bac",
   "metadata": {},
   "source": [
    "# 4"
   ]
  },
  {
   "cell_type": "markdown",
   "id": "90db131f",
   "metadata": {},
   "source": [
    "An expression is made up of combination of operators and operands with assignment operators included.\n",
    "expressions are mainly used for the mathematical operations , for evaluating the problems."
   ]
  },
  {
   "cell_type": "markdown",
   "id": "886dcf23",
   "metadata": {},
   "source": [
    "# 5"
   ]
  },
  {
   "cell_type": "markdown",
   "id": "4a898a3c",
   "metadata": {},
   "source": [
    "expressions goes on dealing with logical evaluation  with variables and values, whereas statements represents the comands processing. if you can print or assign it to a variable its a expression , or else its a statement "
   ]
  },
  {
   "cell_type": "markdown",
   "id": "7cc1408e",
   "metadata": {},
   "source": [
    "# 6"
   ]
  },
  {
   "cell_type": "markdown",
   "id": "46b05c8e",
   "metadata": {},
   "source": [
    "Bacon contains 23"
   ]
  },
  {
   "cell_type": "markdown",
   "id": "d9f3d5c6",
   "metadata": {},
   "source": [
    "\n",
    "# 7"
   ]
  },
  {
   "cell_type": "raw",
   "id": "b8d4428d",
   "metadata": {},
   "source": [
    "spamspamspam\n",
    "spam\n",
    "spam\n",
    "spam"
   ]
  },
  {
   "cell_type": "markdown",
   "id": "62b0d24e",
   "metadata": {},
   "source": [
    "# 8"
   ]
  },
  {
   "cell_type": "markdown",
   "id": "83fc2403",
   "metadata": {},
   "source": [
    "eggs is a valid variable as it starts with the lower case alpahet with no special symbols and underscore at first,\n",
    "while 100 is invalid as direct integers are not considerd as variables."
   ]
  },
  {
   "cell_type": "markdown",
   "id": "288a1059",
   "metadata": {},
   "source": [
    "\n",
    "# 9"
   ]
  },
  {
   "cell_type": "markdown",
   "id": "bb402bb1",
   "metadata": {},
   "source": [
    "int(), float(), str()"
   ]
  },
  {
   "cell_type": "markdown",
   "id": "4fbc1eb8",
   "metadata": {},
   "source": [
    "\n",
    "# 10"
   ]
  },
  {
   "cell_type": "markdown",
   "id": "9a2c149c",
   "metadata": {},
   "source": [
    " in this line 'I have eaten' and 'burritos' are strings, while 99 is integer. to fix the error and print 'I have eaten 99 burritos.', 99 needs '' around it to treat it as a string."
   ]
  },
  {
   "cell_type": "code",
   "execution_count": null,
   "id": "122be42f",
   "metadata": {},
   "outputs": [],
   "source": []
  }
 ],
 "metadata": {
  "kernelspec": {
   "display_name": "Python 3",
   "language": "python",
   "name": "python3"
  },
  "language_info": {
   "codemirror_mode": {
    "name": "ipython",
    "version": 3
   },
   "file_extension": ".py",
   "mimetype": "text/x-python",
   "name": "python",
   "nbconvert_exporter": "python",
   "pygments_lexer": "ipython3",
   "version": "3.8.8"
  }
 },
 "nbformat": 4,
 "nbformat_minor": 5
}
